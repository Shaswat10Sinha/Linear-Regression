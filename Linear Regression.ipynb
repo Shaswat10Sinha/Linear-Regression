{
  "cells": [
    {
      "cell_type": "markdown",
      "metadata": {
        "id": "OHH45oCTRpSs"
      },
      "source": [
        "# Lab 1 Linear Regression- Group 12\n",
        "## Pragya Naruka: 002737744\n",
        "## Shaswat Sinha: 002776180\n"
      ],
      "id": "OHH45oCTRpSs"
    },
    {
      "cell_type": "code",
      "execution_count": null,
      "metadata": {
        "id": "yUZyVKNERpSu"
      },
      "outputs": [],
      "source": [
        "# importing the libraries\n",
        "import numpy as np\n",
        "import pandas as pd\n",
        "import math\n",
        "from sklearn.model_selection import train_test_split\n",
        "from tqdm import tqdm\n",
        "import matplotlib.pyplot as plt"
      ],
      "id": "yUZyVKNERpSu"
    },
    {
      "cell_type": "code",
      "execution_count": 34,
      "metadata": {
        "id": "tQTiKcq0RpSv"
      },
      "outputs": [],
      "source": [
        "class linearregression:\n",
        "    # declaring all the atrributes in the init function\n",
        "    def __init__(self, X,y, tolerance, learning_rate,gd,reg, sgd,lamda=0.01,\n",
        "                 maxIteration=6000,batch_size = 1):\n",
        "        self.X = X\n",
        "        self.y = y\n",
        "        self.tolerance = tolerance\n",
        "        self.lamda = lamda\n",
        "        self.maxIteration = maxIteration\n",
        "        self.reg = reg\n",
        "        self.gd= gd\n",
        "        self.learning_rate = learning_rate\n",
        "        self.sgd = sgd\n",
        "        self.batch_size = batch_size\n",
        "\n",
        "    # Splitting the data sets\n",
        "    def splitData(self):\n",
        "        X_train, X_test, y_train, y_test = train_test_split(self.X,self.y,test_size = 0.25, random_state=0)\n",
        "        return X_train, X_test, y_train, y_test\n",
        "\n",
        "    # Add column of ones to the dataframe for regularization\n",
        "    def add_X0(self,X):\n",
        "        return np.column_stack([np.ones([X.shape[0],1]),X])\n",
        "\n",
        "    #  line chart creation of the cost vs iteration\n",
        "    def plotCost(self):\n",
        "        plt.plot(self.error_sequence)\n",
        "        plt.xlabel(\"Iterations\")\n",
        "        plt.ylabel(\"Cost\")\n",
        "        plt.title(\"Iterations vs cost\")\n",
        "        plt.show()\n",
        "\n",
        "    # Normalizing the training dataset and also adding the regularization\n",
        "    def normalizetraindata(self, X):\n",
        "        self.mean= X.mean(0)\n",
        "        self.std = np.std(X)\n",
        "        X = (X - self.mean)/self.std\n",
        "        X = self.add_X0(X)\n",
        "        return X, self.mean, self.std\n",
        "\n",
        "    # Normalizing the testing dataset and also adding the regularization\n",
        "    def normalizetestdata(self, X_test,mean, std):\n",
        "        X_test = (X_test - mean)/std\n",
        "        X_test = self.add_X0(X_test)\n",
        "        return X_test\n",
        "\n",
        "    # rank of the matrix\n",
        "    def rank(self, X, eps= 0):\n",
        "        u,s,vh = np.linalg.svd(X)\n",
        "        return len([x for x in s if abs(x)>eps])\n",
        "\n",
        "    # Checking whether the matrix is full rank or not\n",
        "    def checkfullrank(self, X):\n",
        "        x_rank = self.rank(X)\n",
        "        if x_rank == min(X.shape[0],X.shape[1]):\n",
        "            self.full_rank = True\n",
        "            print(\"Data is full rank\")\n",
        "        else:\n",
        "            print(\"Data is not full rank\")\n",
        "            self.full_rank = False\n",
        "        return self.full_rank\n",
        "\n",
        "    #find the invertibility of the matrix\n",
        "    def checklowrank(self, X):\n",
        "        if X.shape[0] < X.shape[1]:\n",
        "            print('It is low_rank')\n",
        "            self.low_rank = True\n",
        "            # matrix  not invertible\n",
        "        else:\n",
        "            self.low_rank = False\n",
        "            # matrix invertible\n",
        "        return self.low_rank\n",
        "\n",
        "    # Closed form solution function which applies the normal equation formula depending\n",
        "    # if the matrix is regularized or not\n",
        "    def closedformsolution(self, X,y, reg):\n",
        "        if reg == False:\n",
        "            return np.linalg.inv(X.T.dot(X)).dot(X.T).dot(y) # weight\n",
        "        else:\n",
        "            return np.linalg.inv(X.T.dot(X)-(self.lamda)*np.eye(X.shape[1])).dot(X.T).dot(y) # weights with regularisation\n",
        "\n",
        "    # Predict function\n",
        "    def predict(self, X):\n",
        "        return X.dot(self.w)\n",
        "\n",
        "    # SSE function\n",
        "    def sse(self,X,y):\n",
        "        y_hat = self.predict(X)\n",
        "        return ((y_hat-y)**2).sum()\n",
        "\n",
        "    # RMSE function\n",
        "    def rmse(self,X,y):\n",
        "        y_hat = self.predict(X)\n",
        "        return np.sqrt((((y_hat-y)**2)/X.shape[0]).sum())\n",
        "\n",
        "    # Cost derivative based on the presence of regularization or not\n",
        "    def costderivation(self, X,y):\n",
        "        pred = self.predict(X)\n",
        "        if self.reg == False:\n",
        "            return (pred- y).dot(X)\n",
        "        else:\n",
        "            return (pred-y).dot(X) + (self.lamda * self.w)\n",
        "\n",
        "    # Cost function for RMSE\n",
        "    def costfunction(self,X,y):\n",
        "        return self.rmse(X,y)/2\n",
        "\n",
        "#This function computes the gradient descent or stochastic gradient descent based on the provided parameters.\n",
        "#Stochastic gradient descent is computed using a specified batch size.\n",
        "#The plot function generates and displays a plot\n",
        "    def gradientdescent(self, X,y):\n",
        "        self.error_sequence =[]\n",
        "        last = np.inf\n",
        "        for tq in tqdm(range(self.maxIteration)):\n",
        "            if self.gd == True: #gradient descent\n",
        "                self.w = self.w - (self.learning_rate * self.costderivation(X,y))\n",
        "            elif self.sgd == True: #stochastic gradient descent\n",
        "                for i in range(0, X.shape[0], self.batch_size):\n",
        "                    X_batch = X[i:i+self.batch_size, : ]\n",
        "                    y_batch = y[i:i+self.batch_size]\n",
        "                    self.w = self.w - (self.learning_rate * self.costderivation(X_batch,y_batch))\n",
        "            curr = self.rmse(X,y)\n",
        "            diff = last - curr\n",
        "            last = curr\n",
        "            self.error_sequence.append(curr)\n",
        "            if np.abs(diff) < self.tolerance:\n",
        "                print(\"Model stopped Learning\")\n",
        "                break\n",
        "        self.plotCost()\n",
        "        return self.w\n",
        "\n",
        "# The purpose of the fit function is to adjust the data to the model based on the given parameters.\n",
        "# Essential conditions are examined for both the closed-form solution and the gradient descent/stochastic gradient descent algorithms.\n",
        "    def fit(self):\n",
        "        self.type_of_model =\"\"\n",
        "        X_train, X_test, y_train, y_test = self.splitData()\n",
        "        X_train , self.train_mean, self.train_std = self.normalizetraindata(X_train)\n",
        "        X_test = self.normalizetestdata(X_test,self.train_mean, self.train_std)\n",
        "\n",
        "        if self.checkfullrank(X_train) == True and self.checklowrank(X_train)== False and self.gd== False and self.sgd== False:\n",
        "            self.type_of_model = \"Solving using closed form solution \"+ \"\".join([\"Regularized\" if self.reg==True else \"Non Regularised\"])\n",
        "\n",
        "            print()\n",
        "            print(self.type_of_model)\n",
        "\n",
        "            self.w = self.closedformsolution(X_train,y_train,self.reg)\n",
        "            rmse_test = self.rmse(X_test,y_test)\n",
        "            sse_test = self.sse(X_test, y_test)\n",
        "            print(\"Root Mean Square Error: \",rmse_test)\n",
        "            print(\"Sum of Square Error: \", sse_test)\n",
        "\n",
        "        else:\n",
        "            self.type_of_model = \"\" + \"\".join([\"Solving using Gradient Descent \"if self.gd== True else \"Solving Using Stochastic Gradient Descent\"]) + \" \".join([\" Regularised\" if self.reg==True else \" Not-Regularised\"])\n",
        "\n",
        "            print()\n",
        "            print(self.type_of_model)\n",
        "            self.w = np.ones(X_train.shape[1],dtype = np.float64)*0\n",
        "            self.w= self.gradientdescent(X_train,y_train)\n",
        "            rmse_test = self.rmse(X_test,y_test)\n",
        "            sse_test = self.sse(X_test, y_test)\n",
        "            print(\"Root Mean Square Error: \",rmse_test)\n",
        "            print(\"Sum of Square Error: \", sse_test)"
      ],
      "id": "tQTiKcq0RpSv"
    },
    {
      "cell_type": "markdown",
      "metadata": {
        "id": "xIotzoFwRpSw"
      },
      "source": [
        "# Housing Dataset"
      ],
      "id": "xIotzoFwRpSw"
    },
    {
      "cell_type": "code",
      "execution_count": 32,
      "metadata": {
        "colab": {
          "base_uri": "https://localhost:8080/",
          "height": 424
        },
        "id": "sGy3KMiBRpSx",
        "outputId": "b8e3218c-4b30-405d-aba4-64d34435cec8"
      },
      "outputs": [
        {
          "output_type": "execute_result",
          "data": {
            "text/plain": [
              "     0.00632   18   2.31  0  0.538  6.575  65.2    4.09  1  296  15.3   396.9  \\\n",
              "0    0.02731  0.0   7.07  0  0.469  6.421  78.9  4.9671  2  242  17.8  396.90   \n",
              "1    0.02729  0.0   7.07  0  0.469  7.185  61.1  4.9671  2  242  17.8  392.83   \n",
              "2    0.03237  0.0   2.18  0  0.458  6.998  45.8  6.0622  3  222  18.7  394.63   \n",
              "3    0.06905  0.0   2.18  0  0.458  7.147  54.2  6.0622  3  222  18.7  396.90   \n",
              "4    0.02985  0.0   2.18  0  0.458  6.430  58.7  6.0622  3  222  18.7  394.12   \n",
              "..       ...  ...    ... ..    ...    ...   ...     ... ..  ...   ...     ...   \n",
              "500  0.06263  0.0  11.93  0  0.573  6.593  69.1  2.4786  1  273  21.0  391.99   \n",
              "501  0.04527  0.0  11.93  0  0.573  6.120  76.7  2.2875  1  273  21.0  396.90   \n",
              "502  0.06076  0.0  11.93  0  0.573  6.976  91.0  2.1675  1  273  21.0  396.90   \n",
              "503  0.10959  0.0  11.93  0  0.573  6.794  89.3  2.3889  1  273  21.0  393.45   \n",
              "504  0.04741  0.0  11.93  0  0.573  6.030  80.8  2.5050  1  273  21.0  396.90   \n",
              "\n",
              "     4.98    24  \n",
              "0    9.14  21.6  \n",
              "1    4.03  34.7  \n",
              "2    2.94  33.4  \n",
              "3    5.33  36.2  \n",
              "4    5.21  28.7  \n",
              "..    ...   ...  \n",
              "500  9.67  22.4  \n",
              "501  9.08  20.6  \n",
              "502  5.64  23.9  \n",
              "503  6.48  22.0  \n",
              "504  7.88  11.9  \n",
              "\n",
              "[505 rows x 14 columns]"
            ],
            "text/html": [
              "\n",
              "  <div id=\"df-c18ba31e-550e-456f-b569-5f9bd5bf08a5\" class=\"colab-df-container\">\n",
              "    <div>\n",
              "<style scoped>\n",
              "    .dataframe tbody tr th:only-of-type {\n",
              "        vertical-align: middle;\n",
              "    }\n",
              "\n",
              "    .dataframe tbody tr th {\n",
              "        vertical-align: top;\n",
              "    }\n",
              "\n",
              "    .dataframe thead th {\n",
              "        text-align: right;\n",
              "    }\n",
              "</style>\n",
              "<table border=\"1\" class=\"dataframe\">\n",
              "  <thead>\n",
              "    <tr style=\"text-align: right;\">\n",
              "      <th></th>\n",
              "      <th>0.00632</th>\n",
              "      <th>18</th>\n",
              "      <th>2.31</th>\n",
              "      <th>0</th>\n",
              "      <th>0.538</th>\n",
              "      <th>6.575</th>\n",
              "      <th>65.2</th>\n",
              "      <th>4.09</th>\n",
              "      <th>1</th>\n",
              "      <th>296</th>\n",
              "      <th>15.3</th>\n",
              "      <th>396.9</th>\n",
              "      <th>4.98</th>\n",
              "      <th>24</th>\n",
              "    </tr>\n",
              "  </thead>\n",
              "  <tbody>\n",
              "    <tr>\n",
              "      <th>0</th>\n",
              "      <td>0.02731</td>\n",
              "      <td>0.0</td>\n",
              "      <td>7.07</td>\n",
              "      <td>0</td>\n",
              "      <td>0.469</td>\n",
              "      <td>6.421</td>\n",
              "      <td>78.9</td>\n",
              "      <td>4.9671</td>\n",
              "      <td>2</td>\n",
              "      <td>242</td>\n",
              "      <td>17.8</td>\n",
              "      <td>396.90</td>\n",
              "      <td>9.14</td>\n",
              "      <td>21.6</td>\n",
              "    </tr>\n",
              "    <tr>\n",
              "      <th>1</th>\n",
              "      <td>0.02729</td>\n",
              "      <td>0.0</td>\n",
              "      <td>7.07</td>\n",
              "      <td>0</td>\n",
              "      <td>0.469</td>\n",
              "      <td>7.185</td>\n",
              "      <td>61.1</td>\n",
              "      <td>4.9671</td>\n",
              "      <td>2</td>\n",
              "      <td>242</td>\n",
              "      <td>17.8</td>\n",
              "      <td>392.83</td>\n",
              "      <td>4.03</td>\n",
              "      <td>34.7</td>\n",
              "    </tr>\n",
              "    <tr>\n",
              "      <th>2</th>\n",
              "      <td>0.03237</td>\n",
              "      <td>0.0</td>\n",
              "      <td>2.18</td>\n",
              "      <td>0</td>\n",
              "      <td>0.458</td>\n",
              "      <td>6.998</td>\n",
              "      <td>45.8</td>\n",
              "      <td>6.0622</td>\n",
              "      <td>3</td>\n",
              "      <td>222</td>\n",
              "      <td>18.7</td>\n",
              "      <td>394.63</td>\n",
              "      <td>2.94</td>\n",
              "      <td>33.4</td>\n",
              "    </tr>\n",
              "    <tr>\n",
              "      <th>3</th>\n",
              "      <td>0.06905</td>\n",
              "      <td>0.0</td>\n",
              "      <td>2.18</td>\n",
              "      <td>0</td>\n",
              "      <td>0.458</td>\n",
              "      <td>7.147</td>\n",
              "      <td>54.2</td>\n",
              "      <td>6.0622</td>\n",
              "      <td>3</td>\n",
              "      <td>222</td>\n",
              "      <td>18.7</td>\n",
              "      <td>396.90</td>\n",
              "      <td>5.33</td>\n",
              "      <td>36.2</td>\n",
              "    </tr>\n",
              "    <tr>\n",
              "      <th>4</th>\n",
              "      <td>0.02985</td>\n",
              "      <td>0.0</td>\n",
              "      <td>2.18</td>\n",
              "      <td>0</td>\n",
              "      <td>0.458</td>\n",
              "      <td>6.430</td>\n",
              "      <td>58.7</td>\n",
              "      <td>6.0622</td>\n",
              "      <td>3</td>\n",
              "      <td>222</td>\n",
              "      <td>18.7</td>\n",
              "      <td>394.12</td>\n",
              "      <td>5.21</td>\n",
              "      <td>28.7</td>\n",
              "    </tr>\n",
              "    <tr>\n",
              "      <th>...</th>\n",
              "      <td>...</td>\n",
              "      <td>...</td>\n",
              "      <td>...</td>\n",
              "      <td>...</td>\n",
              "      <td>...</td>\n",
              "      <td>...</td>\n",
              "      <td>...</td>\n",
              "      <td>...</td>\n",
              "      <td>...</td>\n",
              "      <td>...</td>\n",
              "      <td>...</td>\n",
              "      <td>...</td>\n",
              "      <td>...</td>\n",
              "      <td>...</td>\n",
              "    </tr>\n",
              "    <tr>\n",
              "      <th>500</th>\n",
              "      <td>0.06263</td>\n",
              "      <td>0.0</td>\n",
              "      <td>11.93</td>\n",
              "      <td>0</td>\n",
              "      <td>0.573</td>\n",
              "      <td>6.593</td>\n",
              "      <td>69.1</td>\n",
              "      <td>2.4786</td>\n",
              "      <td>1</td>\n",
              "      <td>273</td>\n",
              "      <td>21.0</td>\n",
              "      <td>391.99</td>\n",
              "      <td>9.67</td>\n",
              "      <td>22.4</td>\n",
              "    </tr>\n",
              "    <tr>\n",
              "      <th>501</th>\n",
              "      <td>0.04527</td>\n",
              "      <td>0.0</td>\n",
              "      <td>11.93</td>\n",
              "      <td>0</td>\n",
              "      <td>0.573</td>\n",
              "      <td>6.120</td>\n",
              "      <td>76.7</td>\n",
              "      <td>2.2875</td>\n",
              "      <td>1</td>\n",
              "      <td>273</td>\n",
              "      <td>21.0</td>\n",
              "      <td>396.90</td>\n",
              "      <td>9.08</td>\n",
              "      <td>20.6</td>\n",
              "    </tr>\n",
              "    <tr>\n",
              "      <th>502</th>\n",
              "      <td>0.06076</td>\n",
              "      <td>0.0</td>\n",
              "      <td>11.93</td>\n",
              "      <td>0</td>\n",
              "      <td>0.573</td>\n",
              "      <td>6.976</td>\n",
              "      <td>91.0</td>\n",
              "      <td>2.1675</td>\n",
              "      <td>1</td>\n",
              "      <td>273</td>\n",
              "      <td>21.0</td>\n",
              "      <td>396.90</td>\n",
              "      <td>5.64</td>\n",
              "      <td>23.9</td>\n",
              "    </tr>\n",
              "    <tr>\n",
              "      <th>503</th>\n",
              "      <td>0.10959</td>\n",
              "      <td>0.0</td>\n",
              "      <td>11.93</td>\n",
              "      <td>0</td>\n",
              "      <td>0.573</td>\n",
              "      <td>6.794</td>\n",
              "      <td>89.3</td>\n",
              "      <td>2.3889</td>\n",
              "      <td>1</td>\n",
              "      <td>273</td>\n",
              "      <td>21.0</td>\n",
              "      <td>393.45</td>\n",
              "      <td>6.48</td>\n",
              "      <td>22.0</td>\n",
              "    </tr>\n",
              "    <tr>\n",
              "      <th>504</th>\n",
              "      <td>0.04741</td>\n",
              "      <td>0.0</td>\n",
              "      <td>11.93</td>\n",
              "      <td>0</td>\n",
              "      <td>0.573</td>\n",
              "      <td>6.030</td>\n",
              "      <td>80.8</td>\n",
              "      <td>2.5050</td>\n",
              "      <td>1</td>\n",
              "      <td>273</td>\n",
              "      <td>21.0</td>\n",
              "      <td>396.90</td>\n",
              "      <td>7.88</td>\n",
              "      <td>11.9</td>\n",
              "    </tr>\n",
              "  </tbody>\n",
              "</table>\n",
              "<p>505 rows × 14 columns</p>\n",
              "</div>\n",
              "    <div class=\"colab-df-buttons\">\n",
              "\n",
              "  <div class=\"colab-df-container\">\n",
              "    <button class=\"colab-df-convert\" onclick=\"convertToInteractive('df-c18ba31e-550e-456f-b569-5f9bd5bf08a5')\"\n",
              "            title=\"Convert this dataframe to an interactive table.\"\n",
              "            style=\"display:none;\">\n",
              "\n",
              "  <svg xmlns=\"http://www.w3.org/2000/svg\" height=\"24px\" viewBox=\"0 -960 960 960\">\n",
              "    <path d=\"M120-120v-720h720v720H120Zm60-500h600v-160H180v160Zm220 220h160v-160H400v160Zm0 220h160v-160H400v160ZM180-400h160v-160H180v160Zm440 0h160v-160H620v160ZM180-180h160v-160H180v160Zm440 0h160v-160H620v160Z\"/>\n",
              "  </svg>\n",
              "    </button>\n",
              "\n",
              "  <style>\n",
              "    .colab-df-container {\n",
              "      display:flex;\n",
              "      gap: 12px;\n",
              "    }\n",
              "\n",
              "    .colab-df-convert {\n",
              "      background-color: #E8F0FE;\n",
              "      border: none;\n",
              "      border-radius: 50%;\n",
              "      cursor: pointer;\n",
              "      display: none;\n",
              "      fill: #1967D2;\n",
              "      height: 32px;\n",
              "      padding: 0 0 0 0;\n",
              "      width: 32px;\n",
              "    }\n",
              "\n",
              "    .colab-df-convert:hover {\n",
              "      background-color: #E2EBFA;\n",
              "      box-shadow: 0px 1px 2px rgba(60, 64, 67, 0.3), 0px 1px 3px 1px rgba(60, 64, 67, 0.15);\n",
              "      fill: #174EA6;\n",
              "    }\n",
              "\n",
              "    .colab-df-buttons div {\n",
              "      margin-bottom: 4px;\n",
              "    }\n",
              "\n",
              "    [theme=dark] .colab-df-convert {\n",
              "      background-color: #3B4455;\n",
              "      fill: #D2E3FC;\n",
              "    }\n",
              "\n",
              "    [theme=dark] .colab-df-convert:hover {\n",
              "      background-color: #434B5C;\n",
              "      box-shadow: 0px 1px 3px 1px rgba(0, 0, 0, 0.15);\n",
              "      filter: drop-shadow(0px 1px 2px rgba(0, 0, 0, 0.3));\n",
              "      fill: #FFFFFF;\n",
              "    }\n",
              "  </style>\n",
              "\n",
              "    <script>\n",
              "      const buttonEl =\n",
              "        document.querySelector('#df-c18ba31e-550e-456f-b569-5f9bd5bf08a5 button.colab-df-convert');\n",
              "      buttonEl.style.display =\n",
              "        google.colab.kernel.accessAllowed ? 'block' : 'none';\n",
              "\n",
              "      async function convertToInteractive(key) {\n",
              "        const element = document.querySelector('#df-c18ba31e-550e-456f-b569-5f9bd5bf08a5');\n",
              "        const dataTable =\n",
              "          await google.colab.kernel.invokeFunction('convertToInteractive',\n",
              "                                                    [key], {});\n",
              "        if (!dataTable) return;\n",
              "\n",
              "        const docLinkHtml = 'Like what you see? Visit the ' +\n",
              "          '<a target=\"_blank\" href=https://colab.research.google.com/notebooks/data_table.ipynb>data table notebook</a>'\n",
              "          + ' to learn more about interactive tables.';\n",
              "        element.innerHTML = '';\n",
              "        dataTable['output_type'] = 'display_data';\n",
              "        await google.colab.output.renderOutput(dataTable, element);\n",
              "        const docLink = document.createElement('div');\n",
              "        docLink.innerHTML = docLinkHtml;\n",
              "        element.appendChild(docLink);\n",
              "      }\n",
              "    </script>\n",
              "  </div>\n",
              "\n",
              "\n",
              "<div id=\"df-a06dc0e7-9644-4e1a-862d-f5f82d290700\">\n",
              "  <button class=\"colab-df-quickchart\" onclick=\"quickchart('df-a06dc0e7-9644-4e1a-862d-f5f82d290700')\"\n",
              "            title=\"Suggest charts\"\n",
              "            style=\"display:none;\">\n",
              "\n",
              "<svg xmlns=\"http://www.w3.org/2000/svg\" height=\"24px\"viewBox=\"0 0 24 24\"\n",
              "     width=\"24px\">\n",
              "    <g>\n",
              "        <path d=\"M19 3H5c-1.1 0-2 .9-2 2v14c0 1.1.9 2 2 2h14c1.1 0 2-.9 2-2V5c0-1.1-.9-2-2-2zM9 17H7v-7h2v7zm4 0h-2V7h2v10zm4 0h-2v-4h2v4z\"/>\n",
              "    </g>\n",
              "</svg>\n",
              "  </button>\n",
              "\n",
              "<style>\n",
              "  .colab-df-quickchart {\n",
              "      --bg-color: #E8F0FE;\n",
              "      --fill-color: #1967D2;\n",
              "      --hover-bg-color: #E2EBFA;\n",
              "      --hover-fill-color: #174EA6;\n",
              "      --disabled-fill-color: #AAA;\n",
              "      --disabled-bg-color: #DDD;\n",
              "  }\n",
              "\n",
              "  [theme=dark] .colab-df-quickchart {\n",
              "      --bg-color: #3B4455;\n",
              "      --fill-color: #D2E3FC;\n",
              "      --hover-bg-color: #434B5C;\n",
              "      --hover-fill-color: #FFFFFF;\n",
              "      --disabled-bg-color: #3B4455;\n",
              "      --disabled-fill-color: #666;\n",
              "  }\n",
              "\n",
              "  .colab-df-quickchart {\n",
              "    background-color: var(--bg-color);\n",
              "    border: none;\n",
              "    border-radius: 50%;\n",
              "    cursor: pointer;\n",
              "    display: none;\n",
              "    fill: var(--fill-color);\n",
              "    height: 32px;\n",
              "    padding: 0;\n",
              "    width: 32px;\n",
              "  }\n",
              "\n",
              "  .colab-df-quickchart:hover {\n",
              "    background-color: var(--hover-bg-color);\n",
              "    box-shadow: 0 1px 2px rgba(60, 64, 67, 0.3), 0 1px 3px 1px rgba(60, 64, 67, 0.15);\n",
              "    fill: var(--button-hover-fill-color);\n",
              "  }\n",
              "\n",
              "  .colab-df-quickchart-complete:disabled,\n",
              "  .colab-df-quickchart-complete:disabled:hover {\n",
              "    background-color: var(--disabled-bg-color);\n",
              "    fill: var(--disabled-fill-color);\n",
              "    box-shadow: none;\n",
              "  }\n",
              "\n",
              "  .colab-df-spinner {\n",
              "    border: 2px solid var(--fill-color);\n",
              "    border-color: transparent;\n",
              "    border-bottom-color: var(--fill-color);\n",
              "    animation:\n",
              "      spin 1s steps(1) infinite;\n",
              "  }\n",
              "\n",
              "  @keyframes spin {\n",
              "    0% {\n",
              "      border-color: transparent;\n",
              "      border-bottom-color: var(--fill-color);\n",
              "      border-left-color: var(--fill-color);\n",
              "    }\n",
              "    20% {\n",
              "      border-color: transparent;\n",
              "      border-left-color: var(--fill-color);\n",
              "      border-top-color: var(--fill-color);\n",
              "    }\n",
              "    30% {\n",
              "      border-color: transparent;\n",
              "      border-left-color: var(--fill-color);\n",
              "      border-top-color: var(--fill-color);\n",
              "      border-right-color: var(--fill-color);\n",
              "    }\n",
              "    40% {\n",
              "      border-color: transparent;\n",
              "      border-right-color: var(--fill-color);\n",
              "      border-top-color: var(--fill-color);\n",
              "    }\n",
              "    60% {\n",
              "      border-color: transparent;\n",
              "      border-right-color: var(--fill-color);\n",
              "    }\n",
              "    80% {\n",
              "      border-color: transparent;\n",
              "      border-right-color: var(--fill-color);\n",
              "      border-bottom-color: var(--fill-color);\n",
              "    }\n",
              "    90% {\n",
              "      border-color: transparent;\n",
              "      border-bottom-color: var(--fill-color);\n",
              "    }\n",
              "  }\n",
              "</style>\n",
              "\n",
              "  <script>\n",
              "    async function quickchart(key) {\n",
              "      const quickchartButtonEl =\n",
              "        document.querySelector('#' + key + ' button');\n",
              "      quickchartButtonEl.disabled = true;  // To prevent multiple clicks.\n",
              "      quickchartButtonEl.classList.add('colab-df-spinner');\n",
              "      try {\n",
              "        const charts = await google.colab.kernel.invokeFunction(\n",
              "            'suggestCharts', [key], {});\n",
              "      } catch (error) {\n",
              "        console.error('Error during call to suggestCharts:', error);\n",
              "      }\n",
              "      quickchartButtonEl.classList.remove('colab-df-spinner');\n",
              "      quickchartButtonEl.classList.add('colab-df-quickchart-complete');\n",
              "    }\n",
              "    (() => {\n",
              "      let quickchartButtonEl =\n",
              "        document.querySelector('#df-a06dc0e7-9644-4e1a-862d-f5f82d290700 button');\n",
              "      quickchartButtonEl.style.display =\n",
              "        google.colab.kernel.accessAllowed ? 'block' : 'none';\n",
              "    })();\n",
              "  </script>\n",
              "</div>\n",
              "\n",
              "  <div id=\"id_d355aefe-5d97-4bc8-8559-ce4c57a4a37b\">\n",
              "    <style>\n",
              "      .colab-df-generate {\n",
              "        background-color: #E8F0FE;\n",
              "        border: none;\n",
              "        border-radius: 50%;\n",
              "        cursor: pointer;\n",
              "        display: none;\n",
              "        fill: #1967D2;\n",
              "        height: 32px;\n",
              "        padding: 0 0 0 0;\n",
              "        width: 32px;\n",
              "      }\n",
              "\n",
              "      .colab-df-generate:hover {\n",
              "        background-color: #E2EBFA;\n",
              "        box-shadow: 0px 1px 2px rgba(60, 64, 67, 0.3), 0px 1px 3px 1px rgba(60, 64, 67, 0.15);\n",
              "        fill: #174EA6;\n",
              "      }\n",
              "\n",
              "      [theme=dark] .colab-df-generate {\n",
              "        background-color: #3B4455;\n",
              "        fill: #D2E3FC;\n",
              "      }\n",
              "\n",
              "      [theme=dark] .colab-df-generate:hover {\n",
              "        background-color: #434B5C;\n",
              "        box-shadow: 0px 1px 3px 1px rgba(0, 0, 0, 0.15);\n",
              "        filter: drop-shadow(0px 1px 2px rgba(0, 0, 0, 0.3));\n",
              "        fill: #FFFFFF;\n",
              "      }\n",
              "    </style>\n",
              "    <button class=\"colab-df-generate\" onclick=\"generateWithVariable('df')\"\n",
              "            title=\"Generate code using this dataframe.\"\n",
              "            style=\"display:none;\">\n",
              "\n",
              "  <svg xmlns=\"http://www.w3.org/2000/svg\" height=\"24px\"viewBox=\"0 0 24 24\"\n",
              "       width=\"24px\">\n",
              "    <path d=\"M7,19H8.4L18.45,9,17,7.55,7,17.6ZM5,21V16.75L18.45,3.32a2,2,0,0,1,2.83,0l1.4,1.43a1.91,1.91,0,0,1,.58,1.4,1.91,1.91,0,0,1-.58,1.4L9.25,21ZM18.45,9,17,7.55Zm-12,3A5.31,5.31,0,0,0,4.9,8.1,5.31,5.31,0,0,0,1,6.5,5.31,5.31,0,0,0,4.9,4.9,5.31,5.31,0,0,0,6.5,1,5.31,5.31,0,0,0,8.1,4.9,5.31,5.31,0,0,0,12,6.5,5.46,5.46,0,0,0,6.5,12Z\"/>\n",
              "  </svg>\n",
              "    </button>\n",
              "    <script>\n",
              "      (() => {\n",
              "      const buttonEl =\n",
              "        document.querySelector('#id_d355aefe-5d97-4bc8-8559-ce4c57a4a37b button.colab-df-generate');\n",
              "      buttonEl.style.display =\n",
              "        google.colab.kernel.accessAllowed ? 'block' : 'none';\n",
              "\n",
              "      buttonEl.onclick = () => {\n",
              "        google.colab.notebook.generateWithVariable('df');\n",
              "      }\n",
              "      })();\n",
              "    </script>\n",
              "  </div>\n",
              "\n",
              "    </div>\n",
              "  </div>\n"
            ]
          },
          "metadata": {},
          "execution_count": 32
        }
      ],
      "source": [
        "#import housing data\n",
        "df = pd.read_csv(\"housing.csv\")\n",
        "df"
      ],
      "id": "sGy3KMiBRpSx"
    },
    {
      "cell_type": "code",
      "execution_count": 8,
      "metadata": {
        "id": "FfkeDEJ-RpSx"
      },
      "outputs": [],
      "source": [
        "X = df.values[:, 0:-1]\n",
        "y = df.values[:,-1]"
      ],
      "id": "FfkeDEJ-RpSx"
    },
    {
      "cell_type": "code",
      "execution_count": 40,
      "metadata": {
        "colab": {
          "base_uri": "https://localhost:8080/"
        },
        "id": "QDzQN3OtRpSx",
        "outputId": "4ff8b94a-1304-4028-87ff-dda609f28ea4"
      },
      "outputs": [
        {
          "output_type": "stream",
          "name": "stdout",
          "text": [
            "Data is full rank\n",
            "\n",
            "Solving using closed form solution Non Regularised\n",
            "Root Mean Square Error:  11.220113263451855\n",
            "Sum of Square Error:  32479.862944329565\n"
          ]
        }
      ],
      "source": [
        "# creating an instance of linearregression model where gd, reg and sgd is false, i.e using closed form solution\n",
        "model = linearregression(X, y,gd=False,reg=False,sgd = False,tolerance = 0.0005,learning_rate = 0.1)\n",
        "model.fit()"
      ],
      "id": "QDzQN3OtRpSx"
    },
    {
      "cell_type": "code",
      "execution_count": 41,
      "metadata": {
        "colab": {
          "base_uri": "https://localhost:8080/"
        },
        "id": "vmfynUH8RpSy",
        "outputId": "4a7b02f5-d567-4852-8675-6c46043de859"
      },
      "outputs": [
        {
          "output_type": "stream",
          "name": "stdout",
          "text": [
            "Data is full rank\n",
            "\n",
            "Solving using closed form solution Regularized\n",
            "Root Mean Square Error:  11.233649537912566\n",
            "Sum of Square Error:  32558.279540685944\n"
          ]
        }
      ],
      "source": [
        "model = linearregression(X, y,gd=False,reg=True,sgd = False,tolerance = 0.0005,learning_rate = 0.1)\n",
        "model.fit()"
      ],
      "id": "vmfynUH8RpSy"
    },
    {
      "cell_type": "code",
      "execution_count": 43,
      "metadata": {
        "colab": {
          "base_uri": "https://localhost:8080/",
          "height": 594
        },
        "id": "MiG9-SNcRpSy",
        "outputId": "b476d6f7-7e6c-447e-b7fa-488127052bcb"
      },
      "outputs": [
        {
          "output_type": "stream",
          "name": "stdout",
          "text": [
            "Data is full rank\n",
            "\n",
            "Solving using Gradient Descent  Not-Regularised\n"
          ]
        },
        {
          "output_type": "stream",
          "name": "stderr",
          "text": [
            "  6%|▌         | 330/6000 [00:00<00:00, 15801.00it/s]"
          ]
        },
        {
          "output_type": "stream",
          "name": "stdout",
          "text": [
            "Model stopped Learning\n"
          ]
        },
        {
          "output_type": "stream",
          "name": "stderr",
          "text": [
            "\n"
          ]
        },
        {
          "output_type": "display_data",
          "data": {
            "text/plain": [
              "<Figure size 640x480 with 1 Axes>"
            ],
            "image/png": "[encoded data removed]"
          },
          "metadata": {}
        },
        {
          "output_type": "stream",
          "name": "stdout",
          "text": [
            "Root Mean Square Error:  11.25022989275165\n",
            "Sum of Square Error:  32654.459541058797\n"
          ]
        }
      ],
      "source": [
        "model = linearregression(X, y,gd=True,reg=False,sgd = False,tolerance = 0.0005,learning_rate = 0.001)\n",
        "model.fit()"
      ],
      "id": "MiG9-SNcRpSy"
    },
    {
      "cell_type": "code",
      "execution_count": 44,
      "metadata": {
        "colab": {
          "base_uri": "https://localhost:8080/",
          "height": 594
        },
        "id": "VTyw5t-eRpSy",
        "outputId": "bc569930-db4c-4840-ef70-de61ea336b8c"
      },
      "outputs": [
        {
          "output_type": "stream",
          "name": "stdout",
          "text": [
            "Data is full rank\n",
            "\n",
            "Solving using Gradient Descent  Regularised\n"
          ]
        },
        {
          "output_type": "stream",
          "name": "stderr",
          "text": [
            "  6%|▌         | 330/6000 [00:00<00:00, 14479.31it/s]"
          ]
        },
        {
          "output_type": "stream",
          "name": "stdout",
          "text": [
            "Model stopped Learning\n"
          ]
        },
        {
          "output_type": "stream",
          "name": "stderr",
          "text": [
            "\n"
          ]
        },
        {
          "output_type": "display_data",
          "data": {
            "text/plain": [
              "<Figure size 640x480 with 1 Axes>"
            ],
            "image/png": "[encoded data removed]"
          },
          "metadata": {}
        },
        {
          "output_type": "stream",
          "name": "stdout",
          "text": [
            "Root Mean Square Error:  11.2499204574\n",
            "Sum of Square Error:  32652.663256839383\n"
          ]
        }
      ],
      "source": [
        "model = linearregression(X, y,gd=True,reg=True,sgd = False,tolerance = 0.0005,learning_rate = 0.001)\n",
        "model.fit()"
      ],
      "id": "VTyw5t-eRpSy"
    },
    {
      "cell_type": "code",
      "execution_count": 13,
      "metadata": {
        "colab": {
          "base_uri": "https://localhost:8080/",
          "height": 594
        },
        "id": "s4yTj4suRpSz",
        "outputId": "26aa5f86-acf9-4b96-b38f-3862fa196dd5"
      },
      "outputs": [
        {
          "output_type": "stream",
          "name": "stdout",
          "text": [
            "Data is full rank\n",
            "\n",
            "Solving Using Stochastic Gradient Descent Not-Regularised\n"
          ]
        },
        {
          "output_type": "stream",
          "name": "stderr",
          "text": [
            "  0%|          | 28/6000 [00:00<00:26, 226.46it/s]"
          ]
        },
        {
          "output_type": "stream",
          "name": "stdout",
          "text": [
            "Model stopped Learning\n"
          ]
        },
        {
          "output_type": "stream",
          "name": "stderr",
          "text": [
            "\n"
          ]
        },
        {
          "output_type": "display_data",
          "data": {
            "text/plain": [
              "<Figure size 640x480 with 1 Axes>"
            ],
            "image/png": "[encoded data removed]"
          },
          "metadata": {}
        },
        {
          "output_type": "stream",
          "name": "stdout",
          "text": [
            "Root Mean Square Error:  7.744012408610301\n",
            "Sum of Square Error:  7616.155479458211\n"
          ]
        }
      ],
      "source": [
        "model = linearregression(X, y,gd=False,reg=False,sgd = True,tolerance = 0.005,\n",
        "                          learning_rate = 0.0004,batch_size = 1)\n",
        "model.fit()"
      ],
      "id": "s4yTj4suRpSz"
    },
    {
      "cell_type": "code",
      "execution_count": 15,
      "metadata": {
        "colab": {
          "base_uri": "https://localhost:8080/",
          "height": 594
        },
        "id": "qavZDnpvRpSz",
        "outputId": "8a3ce305-48f1-4ae3-f30c-2f057c180bc4"
      },
      "outputs": [
        {
          "output_type": "stream",
          "name": "stdout",
          "text": [
            "Data is full rank\n",
            "\n",
            "Solving Using Stochastic Gradient Descent Regularised\n"
          ]
        },
        {
          "output_type": "stream",
          "name": "stderr",
          "text": [
            "  0%|          | 30/6000 [00:00<00:28, 212.68it/s]"
          ]
        },
        {
          "output_type": "stream",
          "name": "stdout",
          "text": [
            "Model stopped Learning\n"
          ]
        },
        {
          "output_type": "stream",
          "name": "stderr",
          "text": [
            "\n"
          ]
        },
        {
          "output_type": "display_data",
          "data": {
            "text/plain": [
              "<Figure size 640x480 with 1 Axes>"
            ],
            "image/png": "[encoded data removed]"
          },
          "metadata": {}
        },
        {
          "output_type": "stream",
          "name": "stdout",
          "text": [
            "Root Mean Square Error:  7.739266167740866\n",
            "Sum of Square Error:  7606.822583522576\n"
          ]
        }
      ],
      "source": [
        "model = linearregression(X, y,gd=False,reg=True,sgd = True,tolerance = 0.005,\n",
        "                          learning_rate = 0.0004,batch_size = 1)\n",
        "model.fit()"
      ],
      "id": "qavZDnpvRpSz"
    },
    {
      "cell_type": "markdown",
      "metadata": {
        "id": "8ykRRDboRpSz"
      },
      "source": [
        "# Yacht Dataset"
      ],
      "id": "8ykRRDboRpSz"
    },
    {
      "cell_type": "code",
      "execution_count": 16,
      "metadata": {
        "colab": {
          "base_uri": "https://localhost:8080/",
          "height": 424
        },
        "id": "BnV7AaGnRpSz",
        "outputId": "74809249-7398-4b23-89b4-54ceea0b2305"
      },
      "outputs": [
        {
          "output_type": "execute_result",
          "data": {
            "text/plain": [
              "     -2.3  0.568  4.78  3.99  3.17  0.125   0.11\n",
              "0    -2.3  0.568  4.78  3.99  3.17  0.150   0.27\n",
              "1    -2.3  0.568  4.78  3.99  3.17  0.175   0.47\n",
              "2    -2.3  0.568  4.78  3.99  3.17  0.200   0.78\n",
              "3    -2.3  0.568  4.78  3.99  3.17  0.225   1.18\n",
              "4    -2.3  0.568  4.78  3.99  3.17  0.250   1.82\n",
              "..    ...    ...   ...   ...   ...    ...    ...\n",
              "302  -2.3  0.600  4.34  4.23  2.73  0.350   8.47\n",
              "303  -2.3  0.600  4.34  4.23  2.73  0.375  12.27\n",
              "304  -2.3  0.600  4.34  4.23  2.73  0.400  19.59\n",
              "305  -2.3  0.600  4.34  4.23  2.73  0.425  30.48\n",
              "306  -2.3  0.600  4.34  4.23  2.73  0.450  46.66\n",
              "\n",
              "[307 rows x 7 columns]"
            ],
            "text/html": [
              "\n",
              "  <div id=\"df-1831360e-0a60-4c73-b706-94f046ca1146\" class=\"colab-df-container\">\n",
              "    <div>\n",
              "<style scoped>\n",
              "    .dataframe tbody tr th:only-of-type {\n",
              "        vertical-align: middle;\n",
              "    }\n",
              "\n",
              "    .dataframe tbody tr th {\n",
              "        vertical-align: top;\n",
              "    }\n",
              "\n",
              "    .dataframe thead th {\n",
              "        text-align: right;\n",
              "    }\n",
              "</style>\n",
              "<table border=\"1\" class=\"dataframe\">\n",
              "  <thead>\n",
              "    <tr style=\"text-align: right;\">\n",
              "      <th></th>\n",
              "      <th>-2.3</th>\n",
              "      <th>0.568</th>\n",
              "      <th>4.78</th>\n",
              "      <th>3.99</th>\n",
              "      <th>3.17</th>\n",
              "      <th>0.125</th>\n",
              "      <th>0.11</th>\n",
              "    </tr>\n",
              "  </thead>\n",
              "  <tbody>\n",
              "    <tr>\n",
              "      <th>0</th>\n",
              "      <td>-2.3</td>\n",
              "      <td>0.568</td>\n",
              "      <td>4.78</td>\n",
              "      <td>3.99</td>\n",
              "      <td>3.17</td>\n",
              "      <td>0.150</td>\n",
              "      <td>0.27</td>\n",
              "    </tr>\n",
              "    <tr>\n",
              "      <th>1</th>\n",
              "      <td>-2.3</td>\n",
              "      <td>0.568</td>\n",
              "      <td>4.78</td>\n",
              "      <td>3.99</td>\n",
              "      <td>3.17</td>\n",
              "      <td>0.175</td>\n",
              "      <td>0.47</td>\n",
              "    </tr>\n",
              "    <tr>\n",
              "      <th>2</th>\n",
              "      <td>-2.3</td>\n",
              "      <td>0.568</td>\n",
              "      <td>4.78</td>\n",
              "      <td>3.99</td>\n",
              "      <td>3.17</td>\n",
              "      <td>0.200</td>\n",
              "      <td>0.78</td>\n",
              "    </tr>\n",
              "    <tr>\n",
              "      <th>3</th>\n",
              "      <td>-2.3</td>\n",
              "      <td>0.568</td>\n",
              "      <td>4.78</td>\n",
              "      <td>3.99</td>\n",
              "      <td>3.17</td>\n",
              "      <td>0.225</td>\n",
              "      <td>1.18</td>\n",
              "    </tr>\n",
              "    <tr>\n",
              "      <th>4</th>\n",
              "      <td>-2.3</td>\n",
              "      <td>0.568</td>\n",
              "      <td>4.78</td>\n",
              "      <td>3.99</td>\n",
              "      <td>3.17</td>\n",
              "      <td>0.250</td>\n",
              "      <td>1.82</td>\n",
              "    </tr>\n",
              "    <tr>\n",
              "      <th>...</th>\n",
              "      <td>...</td>\n",
              "      <td>...</td>\n",
              "      <td>...</td>\n",
              "      <td>...</td>\n",
              "      <td>...</td>\n",
              "      <td>...</td>\n",
              "      <td>...</td>\n",
              "    </tr>\n",
              "    <tr>\n",
              "      <th>302</th>\n",
              "      <td>-2.3</td>\n",
              "      <td>0.600</td>\n",
              "      <td>4.34</td>\n",
              "      <td>4.23</td>\n",
              "      <td>2.73</td>\n",
              "      <td>0.350</td>\n",
              "      <td>8.47</td>\n",
              "    </tr>\n",
              "    <tr>\n",
              "      <th>303</th>\n",
              "      <td>-2.3</td>\n",
              "      <td>0.600</td>\n",
              "      <td>4.34</td>\n",
              "      <td>4.23</td>\n",
              "      <td>2.73</td>\n",
              "      <td>0.375</td>\n",
              "      <td>12.27</td>\n",
              "    </tr>\n",
              "    <tr>\n",
              "      <th>304</th>\n",
              "      <td>-2.3</td>\n",
              "      <td>0.600</td>\n",
              "      <td>4.34</td>\n",
              "      <td>4.23</td>\n",
              "      <td>2.73</td>\n",
              "      <td>0.400</td>\n",
              "      <td>19.59</td>\n",
              "    </tr>\n",
              "    <tr>\n",
              "      <th>305</th>\n",
              "      <td>-2.3</td>\n",
              "      <td>0.600</td>\n",
              "      <td>4.34</td>\n",
              "      <td>4.23</td>\n",
              "      <td>2.73</td>\n",
              "      <td>0.425</td>\n",
              "      <td>30.48</td>\n",
              "    </tr>\n",
              "    <tr>\n",
              "      <th>306</th>\n",
              "      <td>-2.3</td>\n",
              "      <td>0.600</td>\n",
              "      <td>4.34</td>\n",
              "      <td>4.23</td>\n",
              "      <td>2.73</td>\n",
              "      <td>0.450</td>\n",
              "      <td>46.66</td>\n",
              "    </tr>\n",
              "  </tbody>\n",
              "</table>\n",
              "<p>307 rows × 7 columns</p>\n",
              "</div>\n",
              "    <div class=\"colab-df-buttons\">\n",
              "\n",
              "  <div class=\"colab-df-container\">\n",
              "    <button class=\"colab-df-convert\" onclick=\"convertToInteractive('df-1831360e-0a60-4c73-b706-94f046ca1146')\"\n",
              "            title=\"Convert this dataframe to an interactive table.\"\n",
              "            style=\"display:none;\">\n",
              "\n",
              "  <svg xmlns=\"http://www.w3.org/2000/svg\" height=\"24px\" viewBox=\"0 -960 960 960\">\n",
              "    <path d=\"M120-120v-720h720v720H120Zm60-500h600v-160H180v160Zm220 220h160v-160H400v160Zm0 220h160v-160H400v160ZM180-400h160v-160H180v160Zm440 0h160v-160H620v160ZM180-180h160v-160H180v160Zm440 0h160v-160H620v160Z\"/>\n",
              "  </svg>\n",
              "    </button>\n",
              "\n",
              "  <style>\n",
              "    .colab-df-container {\n",
              "      display:flex;\n",
              "      gap: 12px;\n",
              "    }\n",
              "\n",
              "    .colab-df-convert {\n",
              "      background-color: #E8F0FE;\n",
              "      border: none;\n",
              "      border-radius: 50%;\n",
              "      cursor: pointer;\n",
              "      display: none;\n",
              "      fill: #1967D2;\n",
              "      height: 32px;\n",
              "      padding: 0 0 0 0;\n",
              "      width: 32px;\n",
              "    }\n",
              "\n",
              "    .colab-df-convert:hover {\n",
              "      background-color: #E2EBFA;\n",
              "      box-shadow: 0px 1px 2px rgba(60, 64, 67, 0.3), 0px 1px 3px 1px rgba(60, 64, 67, 0.15);\n",
              "      fill: #174EA6;\n",
              "    }\n",
              "\n",
              "    .colab-df-buttons div {\n",
              "      margin-bottom: 4px;\n",
              "    }\n",
              "\n",
              "    [theme=dark] .colab-df-convert {\n",
              "      background-color: #3B4455;\n",
              "      fill: #D2E3FC;\n",
              "    }\n",
              "\n",
              "    [theme=dark] .colab-df-convert:hover {\n",
              "      background-color: #434B5C;\n",
              "      box-shadow: 0px 1px 3px 1px rgba(0, 0, 0, 0.15);\n",
              "      filter: drop-shadow(0px 1px 2px rgba(0, 0, 0, 0.3));\n",
              "      fill: #FFFFFF;\n",
              "    }\n",
              "  </style>\n",
              "\n",
              "    <script>\n",
              "      const buttonEl =\n",
              "        document.querySelector('#df-1831360e-0a60-4c73-b706-94f046ca1146 button.colab-df-convert');\n",
              "      buttonEl.style.display =\n",
              "        google.colab.kernel.accessAllowed ? 'block' : 'none';\n",
              "\n",
              "      async function convertToInteractive(key) {\n",
              "        const element = document.querySelector('#df-1831360e-0a60-4c73-b706-94f046ca1146');\n",
              "        const dataTable =\n",
              "          await google.colab.kernel.invokeFunction('convertToInteractive',\n",
              "                                                    [key], {});\n",
              "        if (!dataTable) return;\n",
              "\n",
              "        const docLinkHtml = 'Like what you see? Visit the ' +\n",
              "          '<a target=\"_blank\" href=https://colab.research.google.com/notebooks/data_table.ipynb>data table notebook</a>'\n",
              "          + ' to learn more about interactive tables.';\n",
              "        element.innerHTML = '';\n",
              "        dataTable['output_type'] = 'display_data';\n",
              "        await google.colab.output.renderOutput(dataTable, element);\n",
              "        const docLink = document.createElement('div');\n",
              "        docLink.innerHTML = docLinkHtml;\n",
              "        element.appendChild(docLink);\n",
              "      }\n",
              "    </script>\n",
              "  </div>\n",
              "\n",
              "\n",
              "<div id=\"df-8dc47f97-9dcc-4c17-8d5f-08577f10f1cc\">\n",
              "  <button class=\"colab-df-quickchart\" onclick=\"quickchart('df-8dc47f97-9dcc-4c17-8d5f-08577f10f1cc')\"\n",
              "            title=\"Suggest charts\"\n",
              "            style=\"display:none;\">\n",
              "\n",
              "<svg xmlns=\"http://www.w3.org/2000/svg\" height=\"24px\"viewBox=\"0 0 24 24\"\n",
              "     width=\"24px\">\n",
              "    <g>\n",
              "        <path d=\"M19 3H5c-1.1 0-2 .9-2 2v14c0 1.1.9 2 2 2h14c1.1 0 2-.9 2-2V5c0-1.1-.9-2-2-2zM9 17H7v-7h2v7zm4 0h-2V7h2v10zm4 0h-2v-4h2v4z\"/>\n",
              "    </g>\n",
              "</svg>\n",
              "  </button>\n",
              "\n",
              "<style>\n",
              "  .colab-df-quickchart {\n",
              "      --bg-color: #E8F0FE;\n",
              "      --fill-color: #1967D2;\n",
              "      --hover-bg-color: #E2EBFA;\n",
              "      --hover-fill-color: #174EA6;\n",
              "      --disabled-fill-color: #AAA;\n",
              "      --disabled-bg-color: #DDD;\n",
              "  }\n",
              "\n",
              "  [theme=dark] .colab-df-quickchart {\n",
              "      --bg-color: #3B4455;\n",
              "      --fill-color: #D2E3FC;\n",
              "      --hover-bg-color: #434B5C;\n",
              "      --hover-fill-color: #FFFFFF;\n",
              "      --disabled-bg-color: #3B4455;\n",
              "      --disabled-fill-color: #666;\n",
              "  }\n",
              "\n",
              "  .colab-df-quickchart {\n",
              "    background-color: var(--bg-color);\n",
              "    border: none;\n",
              "    border-radius: 50%;\n",
              "    cursor: pointer;\n",
              "    display: none;\n",
              "    fill: var(--fill-color);\n",
              "    height: 32px;\n",
              "    padding: 0;\n",
              "    width: 32px;\n",
              "  }\n",
              "\n",
              "  .colab-df-quickchart:hover {\n",
              "    background-color: var(--hover-bg-color);\n",
              "    box-shadow: 0 1px 2px rgba(60, 64, 67, 0.3), 0 1px 3px 1px rgba(60, 64, 67, 0.15);\n",
              "    fill: var(--button-hover-fill-color);\n",
              "  }\n",
              "\n",
              "  .colab-df-quickchart-complete:disabled,\n",
              "  .colab-df-quickchart-complete:disabled:hover {\n",
              "    background-color: var(--disabled-bg-color);\n",
              "    fill: var(--disabled-fill-color);\n",
              "    box-shadow: none;\n",
              "  }\n",
              "\n",
              "  .colab-df-spinner {\n",
              "    border: 2px solid var(--fill-color);\n",
              "    border-color: transparent;\n",
              "    border-bottom-color: var(--fill-color);\n",
              "    animation:\n",
              "      spin 1s steps(1) infinite;\n",
              "  }\n",
              "\n",
              "  @keyframes spin {\n",
              "    0% {\n",
              "      border-color: transparent;\n",
              "      border-bottom-color: var(--fill-color);\n",
              "      border-left-color: var(--fill-color);\n",
              "    }\n",
              "    20% {\n",
              "      border-color: transparent;\n",
              "      border-left-color: var(--fill-color);\n",
              "      border-top-color: var(--fill-color);\n",
              "    }\n",
              "    30% {\n",
              "      border-color: transparent;\n",
              "      border-left-color: var(--fill-color);\n",
              "      border-top-color: var(--fill-color);\n",
              "      border-right-color: var(--fill-color);\n",
              "    }\n",
              "    40% {\n",
              "      border-color: transparent;\n",
              "      border-right-color: var(--fill-color);\n",
              "      border-top-color: var(--fill-color);\n",
              "    }\n",
              "    60% {\n",
              "      border-color: transparent;\n",
              "      border-right-color: var(--fill-color);\n",
              "    }\n",
              "    80% {\n",
              "      border-color: transparent;\n",
              "      border-right-color: var(--fill-color);\n",
              "      border-bottom-color: var(--fill-color);\n",
              "    }\n",
              "    90% {\n",
              "      border-color: transparent;\n",
              "      border-bottom-color: var(--fill-color);\n",
              "    }\n",
              "  }\n",
              "</style>\n",
              "\n",
              "  <script>\n",
              "    async function quickchart(key) {\n",
              "      const quickchartButtonEl =\n",
              "        document.querySelector('#' + key + ' button');\n",
              "      quickchartButtonEl.disabled = true;  // To prevent multiple clicks.\n",
              "      quickchartButtonEl.classList.add('colab-df-spinner');\n",
              "      try {\n",
              "        const charts = await google.colab.kernel.invokeFunction(\n",
              "            'suggestCharts', [key], {});\n",
              "      } catch (error) {\n",
              "        console.error('Error during call to suggestCharts:', error);\n",
              "      }\n",
              "      quickchartButtonEl.classList.remove('colab-df-spinner');\n",
              "      quickchartButtonEl.classList.add('colab-df-quickchart-complete');\n",
              "    }\n",
              "    (() => {\n",
              "      let quickchartButtonEl =\n",
              "        document.querySelector('#df-8dc47f97-9dcc-4c17-8d5f-08577f10f1cc button');\n",
              "      quickchartButtonEl.style.display =\n",
              "        google.colab.kernel.accessAllowed ? 'block' : 'none';\n",
              "    })();\n",
              "  </script>\n",
              "</div>\n",
              "\n",
              "  <div id=\"id_cc067286-6eda-491e-9b44-9445c452e69e\">\n",
              "    <style>\n",
              "      .colab-df-generate {\n",
              "        background-color: #E8F0FE;\n",
              "        border: none;\n",
              "        border-radius: 50%;\n",
              "        cursor: pointer;\n",
              "        display: none;\n",
              "        fill: #1967D2;\n",
              "        height: 32px;\n",
              "        padding: 0 0 0 0;\n",
              "        width: 32px;\n",
              "      }\n",
              "\n",
              "      .colab-df-generate:hover {\n",
              "        background-color: #E2EBFA;\n",
              "        box-shadow: 0px 1px 2px rgba(60, 64, 67, 0.3), 0px 1px 3px 1px rgba(60, 64, 67, 0.15);\n",
              "        fill: #174EA6;\n",
              "      }\n",
              "\n",
              "      [theme=dark] .colab-df-generate {\n",
              "        background-color: #3B4455;\n",
              "        fill: #D2E3FC;\n",
              "      }\n",
              "\n",
              "      [theme=dark] .colab-df-generate:hover {\n",
              "        background-color: #434B5C;\n",
              "        box-shadow: 0px 1px 3px 1px rgba(0, 0, 0, 0.15);\n",
              "        filter: drop-shadow(0px 1px 2px rgba(0, 0, 0, 0.3));\n",
              "        fill: #FFFFFF;\n",
              "      }\n",
              "    </style>\n",
              "    <button class=\"colab-df-generate\" onclick=\"generateWithVariable('df1')\"\n",
              "            title=\"Generate code using this dataframe.\"\n",
              "            style=\"display:none;\">\n",
              "\n",
              "  <svg xmlns=\"http://www.w3.org/2000/svg\" height=\"24px\"viewBox=\"0 0 24 24\"\n",
              "       width=\"24px\">\n",
              "    <path d=\"M7,19H8.4L18.45,9,17,7.55,7,17.6ZM5,21V16.75L18.45,3.32a2,2,0,0,1,2.83,0l1.4,1.43a1.91,1.91,0,0,1,.58,1.4,1.91,1.91,0,0,1-.58,1.4L9.25,21ZM18.45,9,17,7.55Zm-12,3A5.31,5.31,0,0,0,4.9,8.1,5.31,5.31,0,0,0,1,6.5,5.31,5.31,0,0,0,4.9,4.9,5.31,5.31,0,0,0,6.5,1,5.31,5.31,0,0,0,8.1,4.9,5.31,5.31,0,0,0,12,6.5,5.46,5.46,0,0,0,6.5,12Z\"/>\n",
              "  </svg>\n",
              "    </button>\n",
              "    <script>\n",
              "      (() => {\n",
              "      const buttonEl =\n",
              "        document.querySelector('#id_cc067286-6eda-491e-9b44-9445c452e69e button.colab-df-generate');\n",
              "      buttonEl.style.display =\n",
              "        google.colab.kernel.accessAllowed ? 'block' : 'none';\n",
              "\n",
              "      buttonEl.onclick = () => {\n",
              "        google.colab.notebook.generateWithVariable('df1');\n",
              "      }\n",
              "      })();\n",
              "    </script>\n",
              "  </div>\n",
              "\n",
              "    </div>\n",
              "  </div>\n"
            ]
          },
          "metadata": {},
          "execution_count": 16
        }
      ],
      "source": [
        "df1 = pd.read_csv(\"yachtData.csv\")\n",
        "df1"
      ],
      "id": "BnV7AaGnRpSz"
    },
    {
      "cell_type": "code",
      "execution_count": 17,
      "metadata": {
        "id": "limrLD8hRpSz"
      },
      "outputs": [],
      "source": [
        "X = df1.values[:, 0:-1]\n",
        "y = df1.values[:,-1]"
      ],
      "id": "limrLD8hRpSz"
    },
    {
      "cell_type": "code",
      "execution_count": 63,
      "metadata": {
        "colab": {
          "base_uri": "https://localhost:8080/"
        },
        "id": "2FzhWpKjRpSz",
        "outputId": "c8b507d3-aa83-462a-f05d-35f161f41532"
      },
      "outputs": [
        {
          "output_type": "stream",
          "name": "stdout",
          "text": [
            "Data is full rank\n",
            "\n",
            "Solving using closed form solution Non Regularised\n",
            "Root Mean Square Error:  11.220113263451855\n",
            "Sum of Square Error:  32479.862944329565\n"
          ]
        }
      ],
      "source": [
        "model = linearregression(X, y,gd=False,reg=False,sgd = False,tolerance = 0.005,\n",
        "                          learning_rate = 0.001)\n",
        "model.fit()"
      ],
      "id": "2FzhWpKjRpSz"
    },
    {
      "cell_type": "code",
      "execution_count": 62,
      "metadata": {
        "colab": {
          "base_uri": "https://localhost:8080/"
        },
        "id": "TzmPPb1wRpS0",
        "outputId": "1045feeb-453b-4423-f78b-0867be745085"
      },
      "outputs": [
        {
          "output_type": "stream",
          "name": "stdout",
          "text": [
            "Data is full rank\n",
            "\n",
            "Solving using closed form solution Regularized\n",
            "Root Mean Square Error:  11.233649537912566\n",
            "Sum of Square Error:  32558.279540685944\n"
          ]
        }
      ],
      "source": [
        "model = linearregression(X, y,gd=False,reg=True,sgd = False,tolerance = 0.005,\n",
        "                          learning_rate = 0.001)\n",
        "model.fit()"
      ],
      "id": "TzmPPb1wRpS0"
    },
    {
      "cell_type": "code",
      "execution_count": 61,
      "metadata": {
        "colab": {
          "base_uri": "https://localhost:8080/",
          "height": 594
        },
        "id": "QLQfwLuXRpS0",
        "outputId": "1cae0786-2552-43f1-bc9f-21150247c086"
      },
      "outputs": [
        {
          "output_type": "stream",
          "name": "stdout",
          "text": [
            "Data is full rank\n",
            "\n",
            "Solving using Gradient Descent  Not-Regularised\n"
          ]
        },
        {
          "output_type": "stream",
          "name": "stderr",
          "text": [
            "  4%|▍         | 268/6000 [00:00<00:00, 15731.43it/s]"
          ]
        },
        {
          "output_type": "stream",
          "name": "stdout",
          "text": [
            "Model stopped Learning\n"
          ]
        },
        {
          "output_type": "stream",
          "name": "stderr",
          "text": [
            "\n"
          ]
        },
        {
          "output_type": "display_data",
          "data": {
            "text/plain": [
              "<Figure size 640x480 with 1 Axes>"
            ],
            "image/png": "[encoded data removed]"
          },
          "metadata": {}
        },
        {
          "output_type": "stream",
          "name": "stdout",
          "text": [
            "Root Mean Square Error:  13.048628789592968\n",
            "Sum of Square Error:  43928.81202845735\n"
          ]
        }
      ],
      "source": [
        "model = linearregression(X, y,gd=True,reg=False,sgd = False,tolerance = 0.005,\n",
        "                          learning_rate = 0.0001)\n",
        "model.fit()"
      ],
      "id": "QLQfwLuXRpS0"
    },
    {
      "cell_type": "code",
      "execution_count": 64,
      "metadata": {
        "colab": {
          "base_uri": "https://localhost:8080/",
          "height": 594
        },
        "id": "hZxbSbipRpS0",
        "outputId": "bf6cff10-ae06-4ef6-cb7b-5e0456b952e1"
      },
      "outputs": [
        {
          "output_type": "stream",
          "name": "stdout",
          "text": [
            "Data is full rank\n",
            "\n",
            "Solving using Gradient Descent  Regularised\n"
          ]
        },
        {
          "output_type": "stream",
          "name": "stderr",
          "text": [
            "  6%|▌         | 364/6000 [00:00<00:00, 18678.30it/s]"
          ]
        },
        {
          "output_type": "stream",
          "name": "stdout",
          "text": [
            "Model stopped Learning\n"
          ]
        },
        {
          "output_type": "stream",
          "name": "stderr",
          "text": [
            "\n"
          ]
        },
        {
          "output_type": "display_data",
          "data": {
            "text/plain": [
              "<Figure size 640x480 with 1 Axes>"
            ],
            "image/png": "[encoded data removed]"
          },
          "metadata": {}
        },
        {
          "output_type": "stream",
          "name": "stdout",
          "text": [
            "Root Mean Square Error:  14.913401421822401\n",
            "Sum of Square Error:  57381.66182785091\n"
          ]
        }
      ],
      "source": [
        "model = linearregression(X, y,gd=True,reg=True,sgd = False,tolerance = 0.005,\n",
        "                          learning_rate = 0.00001)\n",
        "model.fit()"
      ],
      "id": "hZxbSbipRpS0"
    },
    {
      "cell_type": "code",
      "execution_count": 59,
      "metadata": {
        "colab": {
          "base_uri": "https://localhost:8080/",
          "height": 576
        },
        "id": "yjBYZcrTRpS0",
        "outputId": "b9f8ca59-e56b-49f7-a6b1-d00b71dc0e65"
      },
      "outputs": [
        {
          "output_type": "stream",
          "name": "stdout",
          "text": [
            "Data is full rank\n",
            "\n",
            "Solving Using Stochastic Gradient Descent Not-Regularised\n"
          ]
        },
        {
          "output_type": "stream",
          "name": "stderr",
          "text": [
            "100%|██████████| 6000/6000 [00:36<00:00, 165.24it/s]\n"
          ]
        },
        {
          "output_type": "display_data",
          "data": {
            "text/plain": [
              "<Figure size 640x480 with 1 Axes>"
            ],
            "image/png": "[encoded data removed]"
          },
          "metadata": {}
        },
        {
          "output_type": "stream",
          "name": "stdout",
          "text": [
            "Root Mean Square Error:  12.367044918534951\n",
            "Sum of Square Error:  39459.50040440178\n"
          ]
        }
      ],
      "source": [
        "model = linearregression(X, y,gd=False,reg=False,sgd = True,tolerance = 0.0001,learning_rate = 0.00001,batch_size = 1)\n",
        "model.fit()"
      ],
      "id": "yjBYZcrTRpS0"
    },
    {
      "cell_type": "code",
      "execution_count": 58,
      "metadata": {
        "colab": {
          "base_uri": "https://localhost:8080/",
          "height": 594
        },
        "id": "h045Z0BgRpS0",
        "outputId": "bab4b5f1-ee1c-493c-b3ca-6659c36a418a"
      },
      "outputs": [
        {
          "output_type": "stream",
          "name": "stdout",
          "text": [
            "Data is full rank\n",
            "\n",
            "Solving Using Stochastic Gradient Descent Regularised\n"
          ]
        },
        {
          "output_type": "stream",
          "name": "stderr",
          "text": [
            "  4%|▍         | 225/6000 [00:01<00:36, 156.15it/s]\n"
          ]
        },
        {
          "output_type": "stream",
          "name": "stdout",
          "text": [
            "Model stopped Learning\n"
          ]
        },
        {
          "output_type": "display_data",
          "data": {
            "text/plain": [
              "<Figure size 640x480 with 1 Axes>"
            ],
            "image/png": "[encoded data removed]"
          },
          "metadata": {}
        },
        {
          "output_type": "stream",
          "name": "stdout",
          "text": [
            "Root Mean Square Error:  11.801575370666589\n",
            "Sum of Square Error:  35933.51275721724\n"
          ]
        }
      ],
      "source": [
        "model = linearregression(X, y,gd=False,reg=True,sgd = True,tolerance = 0.001,\n",
        "                          learning_rate = 0.001,batch_size = 1)\n",
        "model.fit()"
      ],
      "id": "h045Z0BgRpS0"
    },
    {
      "cell_type": "markdown",
      "metadata": {
        "id": "u-MtHc-nRpS0"
      },
      "source": [
        "# Concrete Dataset"
      ],
      "id": "u-MtHc-nRpS0"
    },
    {
      "cell_type": "code",
      "execution_count": 24,
      "metadata": {
        "colab": {
          "base_uri": "https://localhost:8080/",
          "height": 424
        },
        "id": "tj2r9skMRpS1",
        "outputId": "4ca431d9-aa24-467e-99aa-99e55b04d984"
      },
      "outputs": [
        {
          "output_type": "execute_result",
          "data": {
            "text/plain": [
              "        540      0    0.1    162   2.5    1040    676   28  79.99\n",
              "0     540.0    0.0    0.0  162.0   2.5  1055.0  676.0   28  61.89\n",
              "1     332.5  142.5    0.0  228.0   0.0   932.0  594.0  270  40.27\n",
              "2     332.5  142.5    0.0  228.0   0.0   932.0  594.0  365  41.05\n",
              "3     198.6  132.4    0.0  192.0   0.0   978.4  825.5  360  44.30\n",
              "4     266.0  114.0    0.0  228.0   0.0   932.0  670.0   90  47.03\n",
              "...     ...    ...    ...    ...   ...     ...    ...  ...    ...\n",
              "1024  276.4  116.0   90.3  179.6   8.9   870.1  768.3   28  44.28\n",
              "1025  322.2    0.0  115.6  196.0  10.4   817.9  813.4   28  31.18\n",
              "1026  148.5  139.4  108.6  192.7   6.1   892.4  780.0   28  23.70\n",
              "1027  159.1  186.7    0.0  175.6  11.3   989.6  788.9   28  32.77\n",
              "1028  260.9  100.5   78.3  200.6   8.6   864.5  761.5   28  32.40\n",
              "\n",
              "[1029 rows x 9 columns]"
            ],
            "text/html": [
              "\n",
              "  <div id=\"df-30aac3f0-ddb8-4fd2-bded-b7d7903098ef\" class=\"colab-df-container\">\n",
              "    <div>\n",
              "<style scoped>\n",
              "    .dataframe tbody tr th:only-of-type {\n",
              "        vertical-align: middle;\n",
              "    }\n",
              "\n",
              "    .dataframe tbody tr th {\n",
              "        vertical-align: top;\n",
              "    }\n",
              "\n",
              "    .dataframe thead th {\n",
              "        text-align: right;\n",
              "    }\n",
              "</style>\n",
              "<table border=\"1\" class=\"dataframe\">\n",
              "  <thead>\n",
              "    <tr style=\"text-align: right;\">\n",
              "      <th></th>\n",
              "      <th>540</th>\n",
              "      <th>0</th>\n",
              "      <th>0.1</th>\n",
              "      <th>162</th>\n",
              "      <th>2.5</th>\n",
              "      <th>1040</th>\n",
              "      <th>676</th>\n",
              "      <th>28</th>\n",
              "      <th>79.99</th>\n",
              "    </tr>\n",
              "  </thead>\n",
              "  <tbody>\n",
              "    <tr>\n",
              "      <th>0</th>\n",
              "      <td>540.0</td>\n",
              "      <td>0.0</td>\n",
              "      <td>0.0</td>\n",
              "      <td>162.0</td>\n",
              "      <td>2.5</td>\n",
              "      <td>1055.0</td>\n",
              "      <td>676.0</td>\n",
              "      <td>28</td>\n",
              "      <td>61.89</td>\n",
              "    </tr>\n",
              "    <tr>\n",
              "      <th>1</th>\n",
              "      <td>332.5</td>\n",
              "      <td>142.5</td>\n",
              "      <td>0.0</td>\n",
              "      <td>228.0</td>\n",
              "      <td>0.0</td>\n",
              "      <td>932.0</td>\n",
              "      <td>594.0</td>\n",
              "      <td>270</td>\n",
              "      <td>40.27</td>\n",
              "    </tr>\n",
              "    <tr>\n",
              "      <th>2</th>\n",
              "      <td>332.5</td>\n",
              "      <td>142.5</td>\n",
              "      <td>0.0</td>\n",
              "      <td>228.0</td>\n",
              "      <td>0.0</td>\n",
              "      <td>932.0</td>\n",
              "      <td>594.0</td>\n",
              "      <td>365</td>\n",
              "      <td>41.05</td>\n",
              "    </tr>\n",
              "    <tr>\n",
              "      <th>3</th>\n",
              "      <td>198.6</td>\n",
              "      <td>132.4</td>\n",
              "      <td>0.0</td>\n",
              "      <td>192.0</td>\n",
              "      <td>0.0</td>\n",
              "      <td>978.4</td>\n",
              "      <td>825.5</td>\n",
              "      <td>360</td>\n",
              "      <td>44.30</td>\n",
              "    </tr>\n",
              "    <tr>\n",
              "      <th>4</th>\n",
              "      <td>266.0</td>\n",
              "      <td>114.0</td>\n",
              "      <td>0.0</td>\n",
              "      <td>228.0</td>\n",
              "      <td>0.0</td>\n",
              "      <td>932.0</td>\n",
              "      <td>670.0</td>\n",
              "      <td>90</td>\n",
              "      <td>47.03</td>\n",
              "    </tr>\n",
              "    <tr>\n",
              "      <th>...</th>\n",
              "      <td>...</td>\n",
              "      <td>...</td>\n",
              "      <td>...</td>\n",
              "      <td>...</td>\n",
              "      <td>...</td>\n",
              "      <td>...</td>\n",
              "      <td>...</td>\n",
              "      <td>...</td>\n",
              "      <td>...</td>\n",
              "    </tr>\n",
              "    <tr>\n",
              "      <th>1024</th>\n",
              "      <td>276.4</td>\n",
              "      <td>116.0</td>\n",
              "      <td>90.3</td>\n",
              "      <td>179.6</td>\n",
              "      <td>8.9</td>\n",
              "      <td>870.1</td>\n",
              "      <td>768.3</td>\n",
              "      <td>28</td>\n",
              "      <td>44.28</td>\n",
              "    </tr>\n",
              "    <tr>\n",
              "      <th>1025</th>\n",
              "      <td>322.2</td>\n",
              "      <td>0.0</td>\n",
              "      <td>115.6</td>\n",
              "      <td>196.0</td>\n",
              "      <td>10.4</td>\n",
              "      <td>817.9</td>\n",
              "      <td>813.4</td>\n",
              "      <td>28</td>\n",
              "      <td>31.18</td>\n",
              "    </tr>\n",
              "    <tr>\n",
              "      <th>1026</th>\n",
              "      <td>148.5</td>\n",
              "      <td>139.4</td>\n",
              "      <td>108.6</td>\n",
              "      <td>192.7</td>\n",
              "      <td>6.1</td>\n",
              "      <td>892.4</td>\n",
              "      <td>780.0</td>\n",
              "      <td>28</td>\n",
              "      <td>23.70</td>\n",
              "    </tr>\n",
              "    <tr>\n",
              "      <th>1027</th>\n",
              "      <td>159.1</td>\n",
              "      <td>186.7</td>\n",
              "      <td>0.0</td>\n",
              "      <td>175.6</td>\n",
              "      <td>11.3</td>\n",
              "      <td>989.6</td>\n",
              "      <td>788.9</td>\n",
              "      <td>28</td>\n",
              "      <td>32.77</td>\n",
              "    </tr>\n",
              "    <tr>\n",
              "      <th>1028</th>\n",
              "      <td>260.9</td>\n",
              "      <td>100.5</td>\n",
              "      <td>78.3</td>\n",
              "      <td>200.6</td>\n",
              "      <td>8.6</td>\n",
              "      <td>864.5</td>\n",
              "      <td>761.5</td>\n",
              "      <td>28</td>\n",
              "      <td>32.40</td>\n",
              "    </tr>\n",
              "  </tbody>\n",
              "</table>\n",
              "<p>1029 rows × 9 columns</p>\n",
              "</div>\n",
              "    <div class=\"colab-df-buttons\">\n",
              "\n",
              "  <div class=\"colab-df-container\">\n",
              "    <button class=\"colab-df-convert\" onclick=\"convertToInteractive('df-30aac3f0-ddb8-4fd2-bded-b7d7903098ef')\"\n",
              "            title=\"Convert this dataframe to an interactive table.\"\n",
              "            style=\"display:none;\">\n",
              "\n",
              "  <svg xmlns=\"http://www.w3.org/2000/svg\" height=\"24px\" viewBox=\"0 -960 960 960\">\n",
              "    <path d=\"M120-120v-720h720v720H120Zm60-500h600v-160H180v160Zm220 220h160v-160H400v160Zm0 220h160v-160H400v160ZM180-400h160v-160H180v160Zm440 0h160v-160H620v160ZM180-180h160v-160H180v160Zm440 0h160v-160H620v160Z\"/>\n",
              "  </svg>\n",
              "    </button>\n",
              "\n",
              "  <style>\n",
              "    .colab-df-container {\n",
              "      display:flex;\n",
              "      gap: 12px;\n",
              "    }\n",
              "\n",
              "    .colab-df-convert {\n",
              "      background-color: #E8F0FE;\n",
              "      border: none;\n",
              "      border-radius: 50%;\n",
              "      cursor: pointer;\n",
              "      display: none;\n",
              "      fill: #1967D2;\n",
              "      height: 32px;\n",
              "      padding: 0 0 0 0;\n",
              "      width: 32px;\n",
              "    }\n",
              "\n",
              "    .colab-df-convert:hover {\n",
              "      background-color: #E2EBFA;\n",
              "      box-shadow: 0px 1px 2px rgba(60, 64, 67, 0.3), 0px 1px 3px 1px rgba(60, 64, 67, 0.15);\n",
              "      fill: #174EA6;\n",
              "    }\n",
              "\n",
              "    .colab-df-buttons div {\n",
              "      margin-bottom: 4px;\n",
              "    }\n",
              "\n",
              "    [theme=dark] .colab-df-convert {\n",
              "      background-color: #3B4455;\n",
              "      fill: #D2E3FC;\n",
              "    }\n",
              "\n",
              "    [theme=dark] .colab-df-convert:hover {\n",
              "      background-color: #434B5C;\n",
              "      box-shadow: 0px 1px 3px 1px rgba(0, 0, 0, 0.15);\n",
              "      filter: drop-shadow(0px 1px 2px rgba(0, 0, 0, 0.3));\n",
              "      fill: #FFFFFF;\n",
              "    }\n",
              "  </style>\n",
              "\n",
              "    <script>\n",
              "      const buttonEl =\n",
              "        document.querySelector('#df-30aac3f0-ddb8-4fd2-bded-b7d7903098ef button.colab-df-convert');\n",
              "      buttonEl.style.display =\n",
              "        google.colab.kernel.accessAllowed ? 'block' : 'none';\n",
              "\n",
              "      async function convertToInteractive(key) {\n",
              "        const element = document.querySelector('#df-30aac3f0-ddb8-4fd2-bded-b7d7903098ef');\n",
              "        const dataTable =\n",
              "          await google.colab.kernel.invokeFunction('convertToInteractive',\n",
              "                                                    [key], {});\n",
              "        if (!dataTable) return;\n",
              "\n",
              "        const docLinkHtml = 'Like what you see? Visit the ' +\n",
              "          '<a target=\"_blank\" href=https://colab.research.google.com/notebooks/data_table.ipynb>data table notebook</a>'\n",
              "          + ' to learn more about interactive tables.';\n",
              "        element.innerHTML = '';\n",
              "        dataTable['output_type'] = 'display_data';\n",
              "        await google.colab.output.renderOutput(dataTable, element);\n",
              "        const docLink = document.createElement('div');\n",
              "        docLink.innerHTML = docLinkHtml;\n",
              "        element.appendChild(docLink);\n",
              "      }\n",
              "    </script>\n",
              "  </div>\n",
              "\n",
              "\n",
              "<div id=\"df-76814811-b9f2-4fcc-b80e-ed4446e49af8\">\n",
              "  <button class=\"colab-df-quickchart\" onclick=\"quickchart('df-76814811-b9f2-4fcc-b80e-ed4446e49af8')\"\n",
              "            title=\"Suggest charts\"\n",
              "            style=\"display:none;\">\n",
              "\n",
              "<svg xmlns=\"http://www.w3.org/2000/svg\" height=\"24px\"viewBox=\"0 0 24 24\"\n",
              "     width=\"24px\">\n",
              "    <g>\n",
              "        <path d=\"M19 3H5c-1.1 0-2 .9-2 2v14c0 1.1.9 2 2 2h14c1.1 0 2-.9 2-2V5c0-1.1-.9-2-2-2zM9 17H7v-7h2v7zm4 0h-2V7h2v10zm4 0h-2v-4h2v4z\"/>\n",
              "    </g>\n",
              "</svg>\n",
              "  </button>\n",
              "\n",
              "<style>\n",
              "  .colab-df-quickchart {\n",
              "      --bg-color: #E8F0FE;\n",
              "      --fill-color: #1967D2;\n",
              "      --hover-bg-color: #E2EBFA;\n",
              "      --hover-fill-color: #174EA6;\n",
              "      --disabled-fill-color: #AAA;\n",
              "      --disabled-bg-color: #DDD;\n",
              "  }\n",
              "\n",
              "  [theme=dark] .colab-df-quickchart {\n",
              "      --bg-color: #3B4455;\n",
              "      --fill-color: #D2E3FC;\n",
              "      --hover-bg-color: #434B5C;\n",
              "      --hover-fill-color: #FFFFFF;\n",
              "      --disabled-bg-color: #3B4455;\n",
              "      --disabled-fill-color: #666;\n",
              "  }\n",
              "\n",
              "  .colab-df-quickchart {\n",
              "    background-color: var(--bg-color);\n",
              "    border: none;\n",
              "    border-radius: 50%;\n",
              "    cursor: pointer;\n",
              "    display: none;\n",
              "    fill: var(--fill-color);\n",
              "    height: 32px;\n",
              "    padding: 0;\n",
              "    width: 32px;\n",
              "  }\n",
              "\n",
              "  .colab-df-quickchart:hover {\n",
              "    background-color: var(--hover-bg-color);\n",
              "    box-shadow: 0 1px 2px rgba(60, 64, 67, 0.3), 0 1px 3px 1px rgba(60, 64, 67, 0.15);\n",
              "    fill: var(--button-hover-fill-color);\n",
              "  }\n",
              "\n",
              "  .colab-df-quickchart-complete:disabled,\n",
              "  .colab-df-quickchart-complete:disabled:hover {\n",
              "    background-color: var(--disabled-bg-color);\n",
              "    fill: var(--disabled-fill-color);\n",
              "    box-shadow: none;\n",
              "  }\n",
              "\n",
              "  .colab-df-spinner {\n",
              "    border: 2px solid var(--fill-color);\n",
              "    border-color: transparent;\n",
              "    border-bottom-color: var(--fill-color);\n",
              "    animation:\n",
              "      spin 1s steps(1) infinite;\n",
              "  }\n",
              "\n",
              "  @keyframes spin {\n",
              "    0% {\n",
              "      border-color: transparent;\n",
              "      border-bottom-color: var(--fill-color);\n",
              "      border-left-color: var(--fill-color);\n",
              "    }\n",
              "    20% {\n",
              "      border-color: transparent;\n",
              "      border-left-color: var(--fill-color);\n",
              "      border-top-color: var(--fill-color);\n",
              "    }\n",
              "    30% {\n",
              "      border-color: transparent;\n",
              "      border-left-color: var(--fill-color);\n",
              "      border-top-color: var(--fill-color);\n",
              "      border-right-color: var(--fill-color);\n",
              "    }\n",
              "    40% {\n",
              "      border-color: transparent;\n",
              "      border-right-color: var(--fill-color);\n",
              "      border-top-color: var(--fill-color);\n",
              "    }\n",
              "    60% {\n",
              "      border-color: transparent;\n",
              "      border-right-color: var(--fill-color);\n",
              "    }\n",
              "    80% {\n",
              "      border-color: transparent;\n",
              "      border-right-color: var(--fill-color);\n",
              "      border-bottom-color: var(--fill-color);\n",
              "    }\n",
              "    90% {\n",
              "      border-color: transparent;\n",
              "      border-bottom-color: var(--fill-color);\n",
              "    }\n",
              "  }\n",
              "</style>\n",
              "\n",
              "  <script>\n",
              "    async function quickchart(key) {\n",
              "      const quickchartButtonEl =\n",
              "        document.querySelector('#' + key + ' button');\n",
              "      quickchartButtonEl.disabled = true;  // To prevent multiple clicks.\n",
              "      quickchartButtonEl.classList.add('colab-df-spinner');\n",
              "      try {\n",
              "        const charts = await google.colab.kernel.invokeFunction(\n",
              "            'suggestCharts', [key], {});\n",
              "      } catch (error) {\n",
              "        console.error('Error during call to suggestCharts:', error);\n",
              "      }\n",
              "      quickchartButtonEl.classList.remove('colab-df-spinner');\n",
              "      quickchartButtonEl.classList.add('colab-df-quickchart-complete');\n",
              "    }\n",
              "    (() => {\n",
              "      let quickchartButtonEl =\n",
              "        document.querySelector('#df-76814811-b9f2-4fcc-b80e-ed4446e49af8 button');\n",
              "      quickchartButtonEl.style.display =\n",
              "        google.colab.kernel.accessAllowed ? 'block' : 'none';\n",
              "    })();\n",
              "  </script>\n",
              "</div>\n",
              "\n",
              "  <div id=\"id_018f7d56-16e1-4b24-aef0-54e0abb2bb2d\">\n",
              "    <style>\n",
              "      .colab-df-generate {\n",
              "        background-color: #E8F0FE;\n",
              "        border: none;\n",
              "        border-radius: 50%;\n",
              "        cursor: pointer;\n",
              "        display: none;\n",
              "        fill: #1967D2;\n",
              "        height: 32px;\n",
              "        padding: 0 0 0 0;\n",
              "        width: 32px;\n",
              "      }\n",
              "\n",
              "      .colab-df-generate:hover {\n",
              "        background-color: #E2EBFA;\n",
              "        box-shadow: 0px 1px 2px rgba(60, 64, 67, 0.3), 0px 1px 3px 1px rgba(60, 64, 67, 0.15);\n",
              "        fill: #174EA6;\n",
              "      }\n",
              "\n",
              "      [theme=dark] .colab-df-generate {\n",
              "        background-color: #3B4455;\n",
              "        fill: #D2E3FC;\n",
              "      }\n",
              "\n",
              "      [theme=dark] .colab-df-generate:hover {\n",
              "        background-color: #434B5C;\n",
              "        box-shadow: 0px 1px 3px 1px rgba(0, 0, 0, 0.15);\n",
              "        filter: drop-shadow(0px 1px 2px rgba(0, 0, 0, 0.3));\n",
              "        fill: #FFFFFF;\n",
              "      }\n",
              "    </style>\n",
              "    <button class=\"colab-df-generate\" onclick=\"generateWithVariable('df2')\"\n",
              "            title=\"Generate code using this dataframe.\"\n",
              "            style=\"display:none;\">\n",
              "\n",
              "  <svg xmlns=\"http://www.w3.org/2000/svg\" height=\"24px\"viewBox=\"0 0 24 24\"\n",
              "       width=\"24px\">\n",
              "    <path d=\"M7,19H8.4L18.45,9,17,7.55,7,17.6ZM5,21V16.75L18.45,3.32a2,2,0,0,1,2.83,0l1.4,1.43a1.91,1.91,0,0,1,.58,1.4,1.91,1.91,0,0,1-.58,1.4L9.25,21ZM18.45,9,17,7.55Zm-12,3A5.31,5.31,0,0,0,4.9,8.1,5.31,5.31,0,0,0,1,6.5,5.31,5.31,0,0,0,4.9,4.9,5.31,5.31,0,0,0,6.5,1,5.31,5.31,0,0,0,8.1,4.9,5.31,5.31,0,0,0,12,6.5,5.46,5.46,0,0,0,6.5,12Z\"/>\n",
              "  </svg>\n",
              "    </button>\n",
              "    <script>\n",
              "      (() => {\n",
              "      const buttonEl =\n",
              "        document.querySelector('#id_018f7d56-16e1-4b24-aef0-54e0abb2bb2d button.colab-df-generate');\n",
              "      buttonEl.style.display =\n",
              "        google.colab.kernel.accessAllowed ? 'block' : 'none';\n",
              "\n",
              "      buttonEl.onclick = () => {\n",
              "        google.colab.notebook.generateWithVariable('df2');\n",
              "      }\n",
              "      })();\n",
              "    </script>\n",
              "  </div>\n",
              "\n",
              "    </div>\n",
              "  </div>\n"
            ]
          },
          "metadata": {},
          "execution_count": 24
        }
      ],
      "source": [
        "df2 = pd.read_csv(\"concreteData.csv\")\n",
        "df2"
      ],
      "id": "tj2r9skMRpS1"
    },
    {
      "cell_type": "code",
      "execution_count": 25,
      "metadata": {
        "id": "j4AUkYBRRpS1"
      },
      "outputs": [],
      "source": [
        "X = df2.values[:, 0:-1]\n",
        "y = df2.values[:,-1]"
      ],
      "id": "j4AUkYBRRpS1"
    },
    {
      "cell_type": "code",
      "execution_count": 57,
      "metadata": {
        "colab": {
          "base_uri": "https://localhost:8080/"
        },
        "id": "NN6-WsGERpS1",
        "outputId": "4a34af14-528c-4a84-b26d-e420e01f068b"
      },
      "outputs": [
        {
          "output_type": "stream",
          "name": "stdout",
          "text": [
            "Data is full rank\n",
            "\n",
            "Solving using closed form solution Non Regularised\n",
            "Root Mean Square Error:  11.220113263451855\n",
            "Sum of Square Error:  32479.862944329565\n"
          ]
        }
      ],
      "source": [
        "model = linearregression(X, y,gd=False,reg=False,sgd = False,tolerance = 0.0001,learning_rate = 0.0005)\n",
        "model.fit()"
      ],
      "id": "NN6-WsGERpS1"
    },
    {
      "cell_type": "code",
      "execution_count": 56,
      "metadata": {
        "colab": {
          "base_uri": "https://localhost:8080/"
        },
        "id": "L2CaYXVmRpS1",
        "outputId": "f86e2bd4-f50b-49e4-d739-58d5aef434c5"
      },
      "outputs": [
        {
          "output_type": "stream",
          "name": "stdout",
          "text": [
            "Data is full rank\n",
            "\n",
            "Solving using closed form solution Regularized\n",
            "Root Mean Square Error:  11.233649537912566\n",
            "Sum of Square Error:  32558.279540685944\n"
          ]
        }
      ],
      "source": [
        "model = linearregression(X, y,gd=False,reg=True,sgd = False,tolerance = 0.0001, learning_rate = 0.0005)\n",
        "model.fit()"
      ],
      "id": "L2CaYXVmRpS1"
    },
    {
      "cell_type": "code",
      "execution_count": 55,
      "metadata": {
        "colab": {
          "base_uri": "https://localhost:8080/",
          "height": 594
        },
        "id": "yTVZNuM4RpS1",
        "outputId": "655981c2-7977-4428-a075-efa5d190484a"
      },
      "outputs": [
        {
          "output_type": "stream",
          "name": "stdout",
          "text": [
            "Data is full rank\n",
            "\n",
            "Solving using Gradient Descent  Not-Regularised\n"
          ]
        },
        {
          "output_type": "stream",
          "name": "stderr",
          "text": [
            " 33%|███▎      | 1964/6000 [00:00<00:00, 19721.60it/s]"
          ]
        },
        {
          "output_type": "stream",
          "name": "stdout",
          "text": [
            "Model stopped Learning\n"
          ]
        },
        {
          "output_type": "stream",
          "name": "stderr",
          "text": [
            "\n"
          ]
        },
        {
          "output_type": "display_data",
          "data": {
            "text/plain": [
              "<Figure size 640x480 with 1 Axes>"
            ],
            "image/png": "[encoded data removed]"
          },
          "metadata": {}
        },
        {
          "output_type": "stream",
          "name": "stdout",
          "text": [
            "Root Mean Square Error:  11.217612379662134\n",
            "Sum of Square Error:  32465.385495090082\n"
          ]
        }
      ],
      "source": [
        "model = linearregression(X, y,gd=True,reg=False,sgd = False,tolerance = 0.00001,learning_rate = 0.0005)\n",
        "model.fit()"
      ],
      "id": "yTVZNuM4RpS1"
    },
    {
      "cell_type": "code",
      "execution_count": 51,
      "metadata": {
        "colab": {
          "base_uri": "https://localhost:8080/",
          "height": 594
        },
        "id": "h1X849PaRpS1",
        "outputId": "3324c6ae-551a-430b-8d32-29545723bd98"
      },
      "outputs": [
        {
          "output_type": "stream",
          "name": "stdout",
          "text": [
            "Data is full rank\n",
            "\n",
            "Solving using Gradient Descent  Regularised\n"
          ]
        },
        {
          "output_type": "stream",
          "name": "stderr",
          "text": [
            " 13%|█▎        | 800/6000 [00:00<00:00, 19639.93it/s]"
          ]
        },
        {
          "output_type": "stream",
          "name": "stdout",
          "text": [
            "Model stopped Learning\n"
          ]
        },
        {
          "output_type": "stream",
          "name": "stderr",
          "text": [
            "\n"
          ]
        },
        {
          "output_type": "display_data",
          "data": {
            "text/plain": [
              "<Figure size 640x480 with 1 Axes>"
            ],
            "image/png": "[encoded data removed]"
          },
          "metadata": {}
        },
        {
          "output_type": "stream",
          "name": "stdout",
          "text": [
            "Root Mean Square Error:  11.234388854223933\n",
            "Sum of Square Error:  32562.565175401025\n"
          ]
        }
      ],
      "source": [
        "model = linearregression(X, y,gd=True,reg=True,sgd = False,tolerance = 0.0001,learning_rate = 0.0005)\n",
        "model.fit()"
      ],
      "id": "h1X849PaRpS1"
    },
    {
      "cell_type": "code",
      "execution_count": 47,
      "metadata": {
        "colab": {
          "base_uri": "https://localhost:8080/",
          "height": 594
        },
        "id": "Qui84vOjRpS1",
        "outputId": "d1fb0e3b-1e33-47b5-a8d0-d3d05884ebb9"
      },
      "outputs": [
        {
          "output_type": "stream",
          "name": "stdout",
          "text": [
            "Data is full rank\n",
            "\n",
            "Solving Using Stochastic Gradient Descent Not-Regularised\n"
          ]
        },
        {
          "output_type": "stream",
          "name": "stderr",
          "text": [
            "  1%|▏         | 80/6000 [00:00<00:48, 120.94it/s]\n"
          ]
        },
        {
          "output_type": "stream",
          "name": "stdout",
          "text": [
            "Model stopped Learning\n"
          ]
        },
        {
          "output_type": "display_data",
          "data": {
            "text/plain": [
              "<Figure size 640x480 with 1 Axes>"
            ],
            "image/png": "[encoded data removed]"
          },
          "metadata": {}
        },
        {
          "output_type": "stream",
          "name": "stdout",
          "text": [
            "Root Mean Square Error:  11.2111124652705\n",
            "Sum of Square Error:  32427.773018907443\n"
          ]
        }
      ],
      "source": [
        "model = linearregression(X, y,gd=False,reg=False,sgd = True,tolerance = 0.001,\n",
        "                          learning_rate = 0.005,batch_size = 1)\n",
        "model.fit()"
      ],
      "id": "Qui84vOjRpS1"
    },
    {
      "cell_type": "code",
      "execution_count": 46,
      "metadata": {
        "colab": {
          "base_uri": "https://localhost:8080/",
          "height": 594
        },
        "id": "1cQdR1emRpS1",
        "outputId": "2a9f5bb9-b12b-4122-d27f-4df43243e3d1"
      },
      "outputs": [
        {
          "output_type": "stream",
          "name": "stdout",
          "text": [
            "Data is full rank\n",
            "\n",
            "Solving Using Stochastic Gradient Descent Regularised\n"
          ]
        },
        {
          "output_type": "stream",
          "name": "stderr",
          "text": [
            "  6%|▌         | 362/6000 [00:02<00:36, 155.44it/s]\n"
          ]
        },
        {
          "output_type": "stream",
          "name": "stdout",
          "text": [
            "Model stopped Learning\n"
          ]
        },
        {
          "output_type": "display_data",
          "data": {
            "text/plain": [
              "<Figure size 640x480 with 1 Axes>"
            ],
            "image/png": "[encoded data removed]"
          },
          "metadata": {}
        },
        {
          "output_type": "stream",
          "name": "stdout",
          "text": [
            "Root Mean Square Error:  11.858563087913618\n",
            "Sum of Square Error:  36281.38377558706\n"
          ]
        }
      ],
      "source": [
        "model = linearregression(X, y,gd=False,reg=True,sgd = True,tolerance = 0.001,\n",
        "                          learning_rate = 0.0005,batch_size = 1)\n",
        "model.fit()"
      ],
      "id": "1cQdR1emRpS1"
    },
    {
      "cell_type": "markdown",
      "metadata": {
        "id": "xwdOZHv7RpS2"
      },
      "source": [
        "# Conclusion"
      ],
      "id": "xwdOZHv7RpS2"
    },
    {
      "cell_type": "markdown",
      "metadata": {
        "id": "xiKYEFveRpS2"
      },
      "source": [
        "Regularization keeps the model from fitting the training set too closely and becoming unduly complex. We found that by varying the regularization strength, denoted by the parameter \"lambda,\" errors like SSE and RMSE were produced when lambda was increased, for example, to 1. In general, simpler models with smaller coefficients are produced by stronger regularization, which improves generalization but may sacrifice accuracy and result in more mistakes. On the other hand, models with larger coefficients and weaker regularization produce more complicated models that fit the training set better but run the risk of overfitting. Choosing the right lambda value is essential to prevent either overfitting or underfitting. Regularization can be chosen to be present (reg=True) or absent (reg=False) in the code.\n",
        "\n",
        "The model's learning rate determines how quickly it learns new information. A very low learning rate could lead to delayed learning and drawn-out training, whereas a high rate could make the model learn too quickly and miss ideal answers. Setting a high learning rate of 0.1, for example, could cause the model to stop too soon, indicating insufficient learning and a failure to converge. On the other hand, a lower rate could make convergence and execution times longer. During gradient descent optimization, the learning speed can be specified thanks to the \"learning_rate\" argument in the code. Furthermore, the method offers the option to select between quicker but noisier stochastic gradient descent (sgd=True), which may converge more quickly but increase variation in the results, and regular gradient descent (gd=True).\n",
        "\n",
        "Ultimately, careful tuning of regularization strength and learning rate significantly impacts model performance. Precise adjustment of these hyperparameters is essential to achieve optimal model outcomes."
      ],
      "id": "xiKYEFveRpS2"
    }
  ],
  "metadata": {
    "kernelspec": {
      "display_name": "Python 3",
      "language": "python",
      "name": "python3"
    },
    "language_info": {
      "codemirror_mode": {
        "name": "ipython",
        "version": 3
      },
      "file_extension": ".py",
      "mimetype": "text/x-python",
      "name": "python",
      "nbconvert_exporter": "python",
      "pygments_lexer": "ipython3",
      "version": "3.8.5"
    },
    "colab": {
      "provenance": []
    }
  },
  "nbformat": 4,
  "nbformat_minor": 5
}